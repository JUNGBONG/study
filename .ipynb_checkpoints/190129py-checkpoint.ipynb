{
 "cells": [
  {
   "cell_type": "markdown",
   "metadata": {},
   "source": [
    "문제1\n",
    "해밍 거리(Hamming distance)란 같은 길이를 가진 두 개의 문자열에서 같은 위치에 있지만 서로 다른 문자의 개수를 뜻 합니다. 예를 들어 두 2진수 문자열이 \"10010\"과 \"110\"이라면, 먼저 두 문자열의 자릿수를 맞추기 위해 \"110\"의 앞에 0 두 개를 채워 \"00110\"으로 만들어 줍니다. 두 2진수 문자열은 첫 번째와 세 번째 문자가 서로 다르므로 해밍 거리는 2입니다. \n",
    "- 10010 \n",
    "- 00110 \n",
    "두 2진수 문자열 binaryA, binaryB의 해밍 거리를 구하려 합니다. 이를 위해 다음과 같이 간단히 프로그램 구조를 작성했습니다.\n",
    "\n",
    "1단계. 길이가 더 긴 2진수 문자열의 길이를 구합니다. \n",
    "2단계. 첫 번째 2진수 문자열의 길이가 더 짧다면 문자열의 앞에 0을 채워넣어 길이를 맞춰줍니다. \n",
    "3단계. 두 번째 2진수 문자열의 길이가 더 짧다면 문자열의 앞에 0을 채워넣어 길이를 맞춰줍니다. \n",
    "4단계. 길이가 같은 두 2진수 문자열의 해밍 거리를 구합니다.\n",
    "\n",
    "두 2진수 문자열 binaryA와 binaryB가 매개변수로 주어질 때, 두 2진수의 해밍 거리를 return 하도록 solution 함수를 작성해주세요.\n",
    "\n",
    "매개변수 설명\n",
    "두 2진수 문자열 binaryA와 binaryB가 solution 함수의 매개변수로 주어집니다.\n",
    "\n",
    "binaryA의 길이는 1 이상 10 이하입니다.\n",
    "binaryA는 0 또는 1로만 이루어진 문자열이며, 0으로 시작하지 않습니다. binaryB의 길이는 1 이상 10 이하입니다.\n",
    "binaryB는 0 또는 1로만 이루어진 문자열이며, 0으로 시작하지 않습니다.\n",
    "return 값 설명\n",
    "두 2진수 문자열의 해밍 거리를 return 해주세요.\n",
    "\n",
    "예시\n",
    "binaryA binaryB return\n",
    "\"10010\"\" 110\" 2\n",
    "\n",
    "예시 설명\n",
    "두 2진수의 자릿수는 각각 5와 3입니다. 자릿수를 맞추기 위해 \"110\" 앞에 0 두 개를 채워주면 \"00110\"이 됩니다. 이제 두 2진수 문자열의 해밍 거리를 구하면 다음과 같습니다.\n",
    "\n",
    "10010\n",
    "00110\n",
    "위와 같이 첫 번째와 세 번째 문자가 서로 다르므로, 해밍 거리는 2가 됩니다.\n",
    "\n",
    "def solution(binaryA, binaryB):\n",
    "    hamming_distance = 0\n",
    "    return hamming_distance\n",
    "\n",
    "binaryA = \"10010\"\n",
    "binaryB = \"110\"\n",
    "ret = solution(binaryA, binaryB)\n",
    "\n",
    "print(\"solution 함수의 반환 값은\", ret, \"입니다.\")"
   ]
  },
  {
   "cell_type": "code",
   "execution_count": 5,
   "metadata": {},
   "outputs": [
    {
     "name": "stdout",
     "output_type": "stream",
     "text": [
      "solution 함수의 반환 값은 0 입니다.\n"
     ]
    }
   ],
   "source": [
    "def solution(binaryA, binaryB):\n",
    "    hamming_distance = 0\n",
    "    return hamming_distance\n",
    "\n",
    "binaryA = \"10010\"\n",
    "binaryB = \"110\"\n",
    "ret = solution(binaryA, binaryB)\n",
    "\n",
    "print(\"solution 함수의 반환 값은\", ret, \"입니다.\")"
   ]
  },
  {
   "cell_type": "code",
   "execution_count": 27,
   "metadata": {},
   "outputs": [
    {
     "name": "stdout",
     "output_type": "stream",
     "text": [
      "0\n"
     ]
    }
   ],
   "source": [
    "def solution(binaryA, binaryB):\n",
    "    if len(binaryA)>=len(binaryB):\n",
    "        print(len(binaryA))\n",
    "        pass\n",
    "    else:\n",
    "        temp = binaryB\n",
    "        binaryB =binaryA\n",
    "        binaryA =temp\n",
    "        print(len(binaryA))\n",
    "\n",
    "    if len(binaryA)>=len(binaryB):\n",
    "        zero1=\"0\"*(len(binaryA)-len(binaryB))\n",
    "        binaryB= zero1 +binaryB\n",
    "    count=0\n",
    "    for i in binaryA:\n",
    "        if int(i) == True:\n",
    "            break\n",
    "        else:\n",
    "            count +=1\n",
    "    count2 = 0\n",
    "    for i in binaryB:\n",
    "        if int(i) == True:\n",
    "            break\n",
    "        else:\n",
    "            count2 +=1\n",
    "        \n",
    "    ret =abs(count-count2)\n",
    "    return ret\n",
    "binaryA = \"10010\"\n",
    "binaryB = \"110\"\n",
    "solution(binaryA, binaryB)"
   ]
  },
  {
   "cell_type": "markdown",
   "metadata": {},
   "source": [
    "너무 어려운걸\n",
    "\\"
   ]
  },
  {
   "cell_type": "markdown",
   "metadata": {},
   "source": [
    "문제2\n",
    "어느 누군가가 타임머신을 타고 과거로 가서 숫자 0이 없는 수 체계를 전파했습니다. 역사가 바뀌어 이제 사람들의 의식 속 엔 0이란 숫자가 사라졌습니다. 따라서, 현재의 수 체계는 1, 2, 3, ..., 8, 9, 11, 12, ...와 같이 0이 없게 바뀌었습니다.\n",
    "0을 포함하지 않은 자연수 num이 매개변수로 주어질 때, 이 수에 1을 더한 수를 return 하도록 solution 함수를 완성해주 세요.\n",
    "\n",
    "매개변수 설명\n",
    "자연수 num이 solution 함수의 매개변수로 주어집니다. * num은 1 이상 999,999,999,999,999,999 이하의 0을 포함하 지 않는 자연수입니다.\n",
    "\n",
    "return 값 설명\n",
    "자연수 num에 1을 더한 수를 return 해주세요.\n",
    "\n",
    "예시\n",
    "num return\n",
    "9949999 9951111\n",
    "\n",
    "예시설명\n",
    "9,949,999에 1을 더하면 9,950,000이지만 0은 존재하지 않으므로 9,951,111이 됩니다."
   ]
  },
  {
   "cell_type": "code",
   "execution_count": 29,
   "metadata": {},
   "outputs": [
    {
     "name": "stdout",
     "output_type": "stream",
     "text": [
      "solution 함수의 반환 값은 0 입니다.\n"
     ]
    }
   ],
   "source": [
    "def solution(num):\n",
    "    num = 0\n",
    "    return num\n",
    "\n",
    "num = 9949999;\n",
    "ret = solution(num)\n",
    "\n",
    "\n",
    "print(\"solution 함수의 반환 값은\", ret, \"입니다.\")"
   ]
  },
  {
   "cell_type": "code",
   "execution_count": 42,
   "metadata": {},
   "outputs": [
    {
     "name": "stdout",
     "output_type": "stream",
     "text": [
      "solution 함수의 반환 값은 9951111 입니다.\n"
     ]
    }
   ],
   "source": [
    "def solution(num):\n",
    "    num=num+1\n",
    "    while 1:\n",
    "        a=[]\n",
    "        for i in str(num):\n",
    "            a.append(i)\n",
    "            \n",
    "        \n",
    "        if str(0) in a:\n",
    "            num =num+1\n",
    "        else:\n",
    "            return num\n",
    "\n",
    "num = 9949999\n",
    "ret = solution(num)\n",
    "print(\"solution 함수의 반환 값은\", ret, \"입니다.\")"
   ]
  },
  {
   "cell_type": "markdown",
   "metadata": {},
   "source": [
    "열심히하자!"
   ]
  }
 ],
 "metadata": {
  "kernelspec": {
   "display_name": "Python 3",
   "language": "python",
   "name": "python3"
  },
  "language_info": {
   "codemirror_mode": {
    "name": "ipython",
    "version": 3
   },
   "file_extension": ".py",
   "mimetype": "text/x-python",
   "name": "python",
   "nbconvert_exporter": "python",
   "pygments_lexer": "ipython3",
   "version": "3.6.7"
  }
 },
 "nbformat": 4,
 "nbformat_minor": 2
}
